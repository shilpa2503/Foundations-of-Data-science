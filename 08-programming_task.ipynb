{
 "cells": [
  {
   "cell_type": "markdown",
   "metadata": {},
   "source": [
    "## Foundations of Data Science - 2020 - Exercise Sheet 8\n",
    "\n",
    "### Exercise 8.1 (The greedy algorithm works). We would like to check that the greedy algorithm works in a further sense:\n",
    "### compare the definition to the singular value decomposition, ie. numerically the result of the numpy command numpy.linalg.svd()"
   ]
  },
  {
   "cell_type": "code",
   "execution_count": 1,
   "metadata": {},
   "outputs": [],
   "source": [
    "import numpy as np"
   ]
  },
  {
   "cell_type": "markdown",
   "metadata": {},
   "source": [
    "#### (ii) Write a Python routine first(), that for any matrix A returns the first singular vector. You may use numpy.linalg.svd() for this.\n",
    "\n",
    "As on previous slides, we use the conjugated eigen vector matrix $V^{*}$. Since conjugating is transposing on real matrices, we take the first row of $V^{*}$ instead of the first column to get the first singular vector."
   ]
  },
  {
   "cell_type": "code",
   "execution_count": 2,
   "metadata": {},
   "outputs": [],
   "source": [
    "def first(A):\n",
    "    _, _, vT = np.linalg.svd(A, full_matrices=False)\n",
    "    return vT[0]"
   ]
  },
  {
   "cell_type": "markdown",
   "metadata": {},
   "source": [
    "#### (iii) Randomly generate a matrix for at least dimension d=4 and sample size n=8 (to get an $n×d$-matrix). Apply this routine to the matrix to obtain the first singular vector and apply (i) to also obtain the second.\n",
    "\n",
    "There are two possible obstacles here. First, we need to tell numpy to use the outer product of the eigenvectors. This can be done with giving the correct shapes to vanilla np.dot, but numpy offers a function to do this directly. Second, we want to subtract the outer product from the identity. If we provide just the scalar $1$, numpy assumes we are looking for component wise subtraction."
   ]
  },
  {
   "cell_type": "code",
   "execution_count": 3,
   "metadata": {},
   "outputs": [
    {
     "name": "stdout",
     "output_type": "stream",
     "text": [
      "First singular vector by using first(): [-0.5918612  -0.33421419 -0.61367994 -0.40174386]\n",
      "Second singular vector by using (i):    [ 0.05163298 -0.78954908  0.55219367 -0.26273264]\n"
     ]
    }
   ],
   "source": [
    "np.random.seed(42)\n",
    "A = np.random.randint(0, 10, (8,4))\n",
    "\n",
    "firstSingularVector = first(A)\n",
    "\n",
    "A_1trunc = A @ (np.identity(firstSingularVector.shape[0]) - np.outer(firstSingularVector, firstSingularVector))\n",
    "secondSingularVector = first(A_1trunc)\n",
    "\n",
    "print(\"First singular vector by using first():\", firstSingularVector)\n",
    "print(\"Second singular vector by using (i):   \", secondSingularVector)"
   ]
  },
  {
   "cell_type": "markdown",
   "metadata": {},
   "source": [
    "#### (iv) Compare numerically the second singular vector to the vector $v_{1}$ from the SVD given by numpy.linalg.svd().\n",
    "\n",
    "Again, we select the first *row* of vT, since it is transposed."
   ]
  },
  {
   "cell_type": "code",
   "execution_count": 4,
   "metadata": {},
   "outputs": [
    {
     "name": "stdout",
     "output_type": "stream",
     "text": [
      "Second singular vector by using (i):            [ 0.05163298 -0.78954908  0.55219367 -0.26273264]\n",
      "Second singular vector by using numpy directly: [ 0.05163298 -0.78954908  0.55219367 -0.26273264] \n",
      "\n"
     ]
    }
   ],
   "source": [
    "_, _, vT = np.linalg.svd(A)\n",
    "print(\"Second singular vector by using (i):           \", secondSingularVector)\n",
    "print(\"Second singular vector by using numpy directly:\", vT[1], \"\\n\")"
   ]
  },
  {
   "cell_type": "markdown",
   "metadata": {},
   "source": [
    "#### (v) With a method similar to (i), compute also the third singular vector and compare it to the SVD."
   ]
  },
  {
   "cell_type": "code",
   "execution_count": 5,
   "metadata": {},
   "outputs": [
    {
     "name": "stdout",
     "output_type": "stream",
     "text": [
      "Third singular vector by using (i):             [ 0.47860695 -0.49892388 -0.51895629  0.5026875 ]\n",
      "Third singular vector by using numpy directly:  [-0.47860695  0.49892388  0.51895629 -0.5026875 ]\n"
     ]
    }
   ],
   "source": [
    "A_2trunc = A_1trunc @ (np.identity(secondSingularVector.shape[0]) - np.outer(secondSingularVector, secondSingularVector))\n",
    "thirdSingularVector = first(A_2trunc)\n",
    "print(\"Third singular vector by using (i):            \", thirdSingularVector)\n",
    "print(\"Third singular vector by using numpy directly: \", vT[2])"
   ]
  },
  {
   "cell_type": "markdown",
   "metadata": {},
   "source": [
    "### Power Method to calculate the first singular vector"
   ]
  },
  {
   "cell_type": "code",
   "execution_count": 6,
   "metadata": {},
   "outputs": [],
   "source": [
    "def PM0(A, l):\n",
    "    np.random.seed(42)\n",
    "    v = np.random.normal(loc=0, scale=1, size=A.shape[1]).astype(np.double)\n",
    "    # numba\n",
    "    for it in range(l):\n",
    "        v = np.dot(A, v) # shape of v from d to n\n",
    "        v = np.dot(A.T, v) # shape of v from\n",
    "        v = v / np.abs(v).max()\n",
    "\n",
    "    v0 = v / np.linalg.norm(v)\n",
    "    \n",
    "    return v0\n",
    "        \n",
    "        "
   ]
  },
  {
   "cell_type": "markdown",
   "metadata": {},
   "source": [
    "### Some examples and calculations"
   ]
  },
  {
   "cell_type": "code",
   "execution_count": 7,
   "metadata": {},
   "outputs": [
    {
     "name": "stdout",
     "output_type": "stream",
     "text": [
      "[[-0.5918612   0.05163298 -0.47860695 -0.64650579]\n",
      " [-0.33421419 -0.78954908  0.49892388 -0.12644402]\n",
      " [-0.61367994  0.55219367  0.51895629  0.22172835]\n",
      " [-0.40174386 -0.26273264 -0.5026875   0.71894278]]\n",
      "sigma: [27.79810202 10.64200793  6.60385764  3.79503037]\n",
      "error: [ 4.15781593e-07 -4.08809737e-06  2.56832729e-06 -1.13487275e-06]\n",
      "ratio: 6.762142785708386e-05\n"
     ]
    }
   ],
   "source": [
    "np.random.seed(42)\n",
    "A = np.random.randint(0, 10, (8,4)).astype(np.double)\n",
    "u, s, v = np.linalg.svd(A, full_matrices=False)\n",
    "\n",
    "print(v.T)\n",
    "l = 5\n",
    "print(\"sigma:\", s)\n",
    "print(\"error:\",np.abs(PM0(A, l)) - np.abs(PM0(A, 20)))\n",
    "print(\"ratio:\", (s[1] / s[0])**(l*2))"
   ]
  }
 ],
 "metadata": {
  "kernelspec": {
   "display_name": "Python 3",
   "language": "python",
   "name": "python3"
  },
  "language_info": {
   "codemirror_mode": {
    "name": "ipython",
    "version": 3
   },
   "file_extension": ".py",
   "mimetype": "text/x-python",
   "name": "python",
   "nbconvert_exporter": "python",
   "pygments_lexer": "ipython3",
   "version": "3.8.1"
  }
 },
 "nbformat": 4,
 "nbformat_minor": 4
}

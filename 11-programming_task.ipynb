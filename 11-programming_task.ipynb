{
 "cells": [
  {
   "cell_type": "markdown",
   "metadata": {},
   "source": [
    "## Foundations of Data Science - 2020 - Exercise Sheet 11\n",
    "### Exercise 11.1 (Application of the SVD)\n",
    "#### In this exercise you shall play with the example from \n",
    "#### https://www.engr.uvic.ca/~seng474/svd.pdf  (section 3)"
   ]
  },
  {
   "cell_type": "code",
   "execution_count": 141,
   "metadata": {},
   "outputs": [],
   "source": [
    "import numpy as np\n",
    "import matplotlib.pyplot as plt"
   ]
  },
  {
   "cell_type": "markdown",
   "metadata": {},
   "source": [
    "### (i) Reprogram it, denote by $k$ the used dimension."
   ]
  },
  {
   "cell_type": "code",
   "execution_count": 138,
   "metadata": {},
   "outputs": [],
   "source": [
    "def svd(A, k, scaling = True):\n",
    "    S, sigma, UT = np.linalg.svd(A)\n",
    "    Sk  = S[:, :k]\n",
    "    UTk = UT[:k]\n",
    "    \n",
    "    if scaling:\n",
    "        Sk  = Sk * sigma[:k]\n",
    "        UTk = sigma[:k].reshape(k,-1) * UTk\n",
    "    \n",
    "    return Sk, UTk\n",
    "\n",
    "def cosine(q, UT):\n",
    "    cosineDist = q @ UT / (np.linalg.norm(q) * np.linalg.norm(UT, axis=0))    \n",
    "    return cosineDist\n",
    "\n",
    "\n",
    "def main(A, query, k=2, scaling=True, dist='cosine'):\n",
    "    S, UT      = svd(A, k, scaling)\n",
    "    q          = np.array([S[i] for i in query]).mean(axis=0)\n",
    "    if 'cosine' == dist:\n",
    "        return cosine(q, UT)\n",
    "    elif 'euclid' == dist:\n",
    "        return np.linalg.norm(UT - q.reshape(k, -1), axis=0)\n",
    "    else:\n",
    "        return -1"
   ]
  },
  {
   "cell_type": "code",
   "execution_count": 133,
   "metadata": {},
   "outputs": [],
   "source": [
    "A = np.array([\n",
    "#   d1,d2,d3,d4,d5\n",
    "    [1, 0, 1, 0, 0],  # romeo\n",
    "    [1, 1, 0, 0, 0],  # juliet\n",
    "    [0, 1, 0, 0, 0],  # happy\n",
    "    [0, 1, 1, 0, 0],  # dagger   <---\n",
    "    [0, 0, 0, 1, 0],  # live\n",
    "    [0, 0, 1, 1, 0],  # die      <---\n",
    "    [0, 0, 0, 1, 0],  # free\n",
    "    [0, 0, 0, 1, 1]]) # new - hampshire\n",
    "\n",
    "A_pruned = np.array([\n",
    "#   d1,d2,d3,d4,d5\n",
    "    [1, 0, 1, 0, 0],  # romeo \n",
    "    [1, 1, 0, 0, 0],  # juliet\n",
    "    [0, 1, 1, 0, 0],  # dagger\n",
    "    [0, 0, 1, 1, 0],  # die\n",
    "    [0, 0, 0, 1, 1]]) # new - hampshire\n",
    "\n",
    "query        = [3, 5] # i.e. dagger and die\n",
    "query_pruned = [3, 4]\n",
    "D            = np.array(['d1', 'd2', 'd3', 'd4', 'd5'])"
   ]
  },
  {
   "cell_type": "markdown",
   "metadata": {},
   "source": [
    "### (ii) Examine the resulting ranking if:"
   ]
  },
  {
   "cell_type": "markdown",
   "metadata": {},
   "source": [
    "#### (a) $k \\in \\{2,3,4,5\\}$."
   ]
  },
  {
   "cell_type": "code",
   "execution_count": 140,
   "metadata": {},
   "outputs": [
    {
     "name": "stdout",
     "output_type": "stream",
     "text": [
      "\n",
      " k = 2\n",
      "distances: [0.77279649 0.73067682 0.98443599 0.61873061 0.48491832]\n",
      "ranking  : ['d3' 'd1' 'd2' 'd4' 'd5']\n",
      "\n",
      " k = 3\n",
      "distances: [0.77908876 0.49623703 0.9206239  0.57426751 0.31817696]\n",
      "ranking  : ['d3' 'd1' 'd4' 'd2' 'd5']\n",
      "\n",
      " k = 4\n",
      "distances: [0.25983119 0.52140345 0.91539774 0.51737492 0.14161281]\n",
      "ranking  : ['d3' 'd2' 'd4' 'd1' 'd5']\n",
      "\n",
      " k = 5\n",
      "distances: [0.25757393 0.52089003 0.91297576 0.50990905 0.11282241]\n",
      "ranking  : ['d3' 'd2' 'd4' 'd1' 'd5']\n"
     ]
    }
   ],
   "source": [
    "for k in range(2, 6):\n",
    "    out = main(A, query, k)\n",
    "    ind = np.flip(np.argsort(out))\n",
    "    \n",
    "    print('\\n k =', k)\n",
    "    print('distances:', out)\n",
    "    print('ranking  :', D[ind])"
   ]
  },
  {
   "cell_type": "markdown",
   "metadata": {},
   "source": [
    "#### (b) scaling omitted."
   ]
  },
  {
   "cell_type": "code",
   "execution_count": 135,
   "metadata": {},
   "outputs": [
    {
     "name": "stdout",
     "output_type": "stream",
     "text": [
      "distances: [0.74094797 0.69742696 0.98037899 0.55485875 0.41876367]\n",
      "ranking  : ['d3' 'd1' 'd2' 'd4' 'd5']\n"
     ]
    }
   ],
   "source": [
    "out = main(A, query, scaling=False)\n",
    "ind = np.flip(np.argsort(out))\n",
    "\n",
    "print('distances:', out)\n",
    "print('ranking  :', D[ind])"
   ]
  },
  {
   "cell_type": "markdown",
   "metadata": {},
   "source": [
    "#### (c) single occurence words omitted."
   ]
  },
  {
   "cell_type": "code",
   "execution_count": 136,
   "metadata": {},
   "outputs": [
    {
     "name": "stdout",
     "output_type": "stream",
     "text": [
      "distances: [0.03616882 0.03616882 0.66694737 0.99287083 0.93362179]\n",
      "ranking  : ['d4' 'd5' 'd3' 'd2' 'd1']\n"
     ]
    }
   ],
   "source": [
    "out = main(A_pruned, query_pruned)\n",
    "ind = np.flip(np.argsort(out))\n",
    "\n",
    "print('distances:', out)\n",
    "print('ranking  :', D[ind])"
   ]
  },
  {
   "cell_type": "markdown",
   "metadata": {},
   "source": [
    "#### (d) Euclidean distance."
   ]
  },
  {
   "cell_type": "code",
   "execution_count": 139,
   "metadata": {},
   "outputs": [
    {
     "name": "stdout",
     "output_type": "stream",
     "text": [
      "distances: [0.72095593 0.97896092 0.3809152  1.54593709 0.96806219]\n",
      "ranking  : ['d4' 'd2' 'd5' 'd1' 'd3']\n"
     ]
    }
   ],
   "source": [
    "out = main(A, query, dist='euclid')\n",
    "ind = np.flip(np.argsort(out))\n",
    "\n",
    "print('distances:', out)\n",
    "print('ranking  :', D[ind])"
   ]
  },
  {
   "cell_type": "code",
   "execution_count": null,
   "metadata": {},
   "outputs": [],
   "source": []
  }
 ],
 "metadata": {
  "kernelspec": {
   "display_name": "Python 3",
   "language": "python",
   "name": "python3"
  },
  "language_info": {
   "codemirror_mode": {
    "name": "ipython",
    "version": 3
   },
   "file_extension": ".py",
   "mimetype": "text/x-python",
   "name": "python",
   "nbconvert_exporter": "python",
   "pygments_lexer": "ipython3",
   "version": "3.8.1"
  }
 },
 "nbformat": 4,
 "nbformat_minor": 4
}

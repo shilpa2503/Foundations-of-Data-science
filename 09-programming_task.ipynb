{
 "cells": [
  {
   "cell_type": "markdown",
   "metadata": {},
   "source": [
    "## Foundations of Data Science - 2020 - Exercise Sheet 9\n",
    "### Exercise 9.1 (Approximating A|x〉)\n",
    "### In the course we have considered approximating A|x〉by using the SVD. Well, this task asks you to set up and run some experiments in order to check out whether this really works and how well. Feel free to use python or which ever implementation you prefer."
   ]
  },
  {
   "cell_type": "code",
   "execution_count": 13,
   "metadata": {},
   "outputs": [],
   "source": [
    "import numpy as np\n",
    "import matplotlib.pyplot as plt\n",
    "import matplotlib.lines as lines\n"
   ]
  },
  {
   "cell_type": "markdown",
   "metadata": {},
   "source": [
    "#### Consider the matrix"
   ]
  },
  {
   "cell_type": "code",
   "execution_count": 2,
   "metadata": {},
   "outputs": [],
   "source": [
    "A = np.array([[1,0,1,0,0],\n",
    "              [1,1,0,0,0],\n",
    "              [0,1,0,0,0],\n",
    "              [0,1,1,0,0],\n",
    "              [0,0,0,1,0],\n",
    "              [0,0,1,1,0],\n",
    "              [0,0,0,1,0],\n",
    "              [0,0,0,1,1]])"
   ]
  },
  {
   "cell_type": "markdown",
   "metadata": {},
   "source": [
    "#### (i) Compute its 2-truncated SVD $A_{2}= U_{2}D_{2}V_{2}$."
   ]
  },
  {
   "cell_type": "code",
   "execution_count": 3,
   "metadata": {},
   "outputs": [
    {
     "name": "stdout",
     "output_type": "stream",
     "text": [
      "[[ 0.49  0.67  0.65  0.15  0.  ]\n",
      " [ 0.55  0.78  0.61 -0.2  -0.1 ]\n",
      " [ 0.32  0.46  0.35 -0.13 -0.07]\n",
      " [ 0.58  0.81  0.74  0.09 -0.03]\n",
      " [-0.06 -0.13  0.22  0.85  0.25]\n",
      " [ 0.19  0.22  0.61  1.07  0.28]\n",
      " [-0.06 -0.13  0.22  0.85  0.25]\n",
      " [-0.1  -0.2   0.26  1.09  0.32]]\n"
     ]
    }
   ],
   "source": [
    "u, s, vT = np.linalg.svd(A)\n",
    "A_2 = np.matmul(u[:,:2] * s[:2], vT[:2])\n",
    "print(A_2.round(2))"
   ]
  },
  {
   "cell_type": "markdown",
   "metadata": {},
   "source": [
    "#### (ii)  Compute $A^{T}|y〉$ and $A^{T}_{2}|y〉$ with $|y〉=|(0,0,0,0.5,0,0.5,0,0)〉$."
   ]
  },
  {
   "cell_type": "code",
   "execution_count": 4,
   "metadata": {},
   "outputs": [
    {
     "name": "stdout",
     "output_type": "stream",
     "text": [
      "[[0. ]\n",
      " [0.5]\n",
      " [1. ]\n",
      " [0.5]\n",
      " [0. ]]\n",
      "[[0.38638611]\n",
      " [0.51428595]\n",
      " [0.67825179]\n",
      " [0.57779359]\n",
      " [0.12898205]]\n"
     ]
    }
   ],
   "source": [
    "y = np.array([0,0,0,.5,0,.5,0,0]).reshape(-1, 1)\n",
    "z = np.matmul(A.T, y)\n",
    "z_2 = np.matmul(A_2.T, y)\n",
    "print(z)\n",
    "print(z_2)"
   ]
  },
  {
   "cell_type": "markdown",
   "metadata": {},
   "source": [
    "#### (iii)  How large is the error? Compare it to the upper bound from the course.\n",
    "From the lecture (p. 129): $$\\frac{‖A_{2}|y〉- A|y〉‖_{2}}{‖|y〉‖_{2}} \\leq \\sigma_{2}$$"
   ]
  },
  {
   "cell_type": "code",
   "execution_count": 5,
   "metadata": {},
   "outputs": [
    {
     "name": "stdout",
     "output_type": "stream",
     "text": [
      "Error = 0.525, it is smaller than theoretical! upper bound 0.962\n"
     ]
    }
   ],
   "source": [
    "error = z - z_2\n",
    "upper_bound = s[2] * np.linalg.norm(y)\n",
    "print(f'Error = {np.linalg.norm(error):.3f}, it is smaller than theoretical! upper bound {upper_bound:.3f}')"
   ]
  },
  {
   "cell_type": "code",
   "execution_count": 6,
   "metadata": {},
   "outputs": [
    {
     "data": {
      "text/plain": [
       "array([[1, 0],\n",
       "       [0, 1]])"
      ]
     },
     "execution_count": 6,
     "metadata": {},
     "output_type": "execute_result"
    }
   ],
   "source": [
    "np.random.randint(0,2, (2,2))"
   ]
  },
  {
   "cell_type": "markdown",
   "metadata": {},
   "source": [
    "#### (iv)  Pick some suitable rank-2 matrices B and compute $‖A−B‖_{F}$ and $‖A−B‖_{2}$. Compare to $‖A−A_{2}‖_{F}$ and $‖A−A_{2}‖_{2}$, respectively."
   ]
  },
  {
   "cell_type": "markdown",
   "metadata": {},
   "source": [
    "#### We can also use the fact that the rank of $(nxk) * (kxn)$ is at most k and that numpy random tries  to make full rank matrices."
   ]
  },
  {
   "cell_type": "code",
   "execution_count": 7,
   "metadata": {},
   "outputs": [],
   "source": [
    "def random_matrix_like(A, N, rank=2):\n",
    "    tensor1 = np.random.random((N, A.shape[0], rank))\n",
    "    tensor2 = np.random.random((N, rank, A.shape[0]))\n",
    "    return np.matmul(tensor1, tensor2)[:, :, :A.shape[1]]\n",
    "\n",
    "def norm_to_matrix(A, BTensor, ord):\n",
    "    return np.linalg.norm(A-BTensor, axis=(1,2), ord=ord)"
   ]
  },
  {
   "cell_type": "code",
   "execution_count": 8,
   "metadata": {},
   "outputs": [],
   "source": [
    "N = 500000\n",
    "\n",
    "BTensor = random_matrix_like(A, N)\n",
    "min2    = np.min(norm_to_matrix(A, BTensor, 2))\n",
    "minfro  = np.min(norm_to_matrix(A, BTensor, 'fro'))"
   ]
  },
  {
   "cell_type": "code",
   "execution_count": 9,
   "metadata": {},
   "outputs": [
    {
     "name": "stdout",
     "output_type": "stream",
     "text": [
      "1.360699308332465 1.5718790599545363\n",
      "1.9329446892818882 2.6109828019735555\n"
     ]
    }
   ],
   "source": [
    "A_2 = np.matmul(u[:,:2] * s[:2], vT[:2])\n",
    "\n",
    "A2_error_2 = np.linalg.norm(A - A_2, ord=2)\n",
    "A2_error_fro = np.linalg.norm(A - A_2, ord='fro')\n",
    "\n",
    "print(A2_error_2, min2)\n",
    "print(A2_error_fro, minfro)"
   ]
  },
  {
   "cell_type": "markdown",
   "metadata": {},
   "source": [
    "#### (v)  Plot the rows of $V_{2}D_{2}$. Which points are closest to $〈y|U_{2}D_{2}$?"
   ]
  },
  {
   "cell_type": "code",
   "execution_count": 10,
   "metadata": {},
   "outputs": [],
   "source": [
    "V2S2 = vT[:2].T * s[:2]\n",
    "yU2S2 = np.matmul(y.T, u[:,:2] * s[:2])"
   ]
  },
  {
   "cell_type": "code",
   "execution_count": 52,
   "metadata": {},
   "outputs": [
    {
     "name": "stdout",
     "output_type": "stream",
     "text": [
      "Cosinus of each point to orange dot:\n",
      "1: 0.7727964887537563\n",
      "2: 0.7306768205359725\n",
      "3: 0.9844359912676068\n",
      "4: 0.6187306127613198\n",
      "5: 0.4849183185073803\n"
     ]
    },
    {
     "data": {
      "image/png": "[encoded data removed]",
      "text/plain": [
       "<Figure size 720x720 with 1 Axes>"
      ]
     },
     "metadata": {
      "needs_background": "light"
     },
     "output_type": "display_data"
    }
   ],
   "source": [
    "'''\n",
    "@author: Pavel Raschetnov\n",
    "'''\n",
    "\n",
    "fig = plt.figure(figsize=(10,10))\n",
    "plt.scatter(x=yU2S2[0,0], y=yU2S2[0,1], label='asdf', c='orange')\n",
    "tmp = yU2S2[0,:2]\n",
    "tmpNorm = np.linalg.norm(tmp)\n",
    "print(\"Cosinus of each point to orange dot:\")\n",
    "for i in range(V2S2.shape[0]):\n",
    "    x,y = V2S2[i]\n",
    "    plt.scatter(x, y, c='blue')\n",
    "    plt.annotate(str(i+1), (x,y), size=25)\n",
    "    print(str(i+1) + ':', np.dot(np.array([x,y]).T, tmp) / (tmpNorm * np.linalg.norm(np.array([x,y]))))\n",
    "    plt.plot([0, x], [0, y], linestyle='-', color='grey')\n",
    "plt.xticks([-2,-1,0,1,2])\n",
    "plt.yticks([-2,-1,0,1,2])\n",
    "plt.gca().set_aspect('equal', adjustable='box')"
   ]
  },
  {
   "cell_type": "code",
   "execution_count": null,
   "metadata": {},
   "outputs": [],
   "source": []
  }
 ],
 "metadata": {
  "kernelspec": {
   "display_name": "Python 3",
   "language": "python",
   "name": "python3"
  },
  "language_info": {
   "codemirror_mode": {
    "name": "ipython",
    "version": 3
   },
   "file_extension": ".py",
   "mimetype": "text/x-python",
   "name": "python",
   "nbconvert_exporter": "python",
   "pygments_lexer": "ipython3",
   "version": "3.8.1"
  }
 },
 "nbformat": 4,
 "nbformat_minor": 4
}
